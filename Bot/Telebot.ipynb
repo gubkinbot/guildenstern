{
 "cells": [
  {
   "cell_type": "markdown",
   "id": "76594af4-1e32-40e4-81ea-f5fb42adb34e",
   "metadata": {},
   "source": [
    "# Тест библиотек"
   ]
  },
  {
   "cell_type": "code",
   "execution_count": 6,
   "id": "082292e0-b10e-456e-8414-201093214abd",
   "metadata": {
    "execution": {
     "iopub.execute_input": "2022-02-06T17:49:17.072147Z",
     "iopub.status.busy": "2022-02-06T17:49:17.072147Z",
     "iopub.status.idle": "2022-02-06T17:49:17.075153Z",
     "shell.execute_reply": "2022-02-06T17:49:17.075153Z",
     "shell.execute_reply.started": "2022-02-06T17:49:17.072147Z"
    },
    "tags": []
   },
   "outputs": [],
   "source": [
    "import telebot\n",
    "token = '5206536378:AAELOFjmqK_qPY7OGppdnEejFYEgbskNvvo'"
   ]
  },
  {
   "cell_type": "code",
   "execution_count": null,
   "id": "33577bd4-0141-4b3c-b13f-257dd17f7456",
   "metadata": {},
   "outputs": [],
   "source": [
    "from telebot import TeleBot"
   ]
  },
  {
   "cell_type": "code",
   "execution_count": null,
   "id": "baff4725-4334-4901-8d19-699d9a8f7c8c",
   "metadata": {},
   "outputs": [],
   "source": []
  },
  {
   "cell_type": "code",
   "execution_count": null,
   "id": "d9c71e59-d2d8-4a2e-8e95-dbe7e30e3f1f",
   "metadata": {},
   "outputs": [],
   "source": []
  },
  {
   "cell_type": "code",
   "execution_count": null,
   "id": "47f28b6d-a671-4997-ac50-cd68b8477207",
   "metadata": {
    "execution": {
     "iopub.execute_input": "2022-02-06T17:51:25.731712Z",
     "iopub.status.busy": "2022-02-06T17:51:25.731712Z"
    },
    "tags": []
   },
   "outputs": [],
   "source": [
    "import telebot\n",
    "token='5206536378:AAELOFjmqK_qPY7OGppdnEejFYEgbskNvvo'\n",
    "bot=telebot.TeleBot(token)\n",
    "@bot.message_handler(commands=['start'])\n",
    "def start_message(message):\n",
    "  bot.send_message(message.chat.id,\"Привет ✌️ \")\n",
    "bot.infinity_polling()"
   ]
  },
  {
   "cell_type": "code",
   "execution_count": null,
   "id": "6adc09c8-d2b2-4459-bb80-5fc148294519",
   "metadata": {},
   "outputs": [],
   "source": []
  },
  {
   "cell_type": "code",
   "execution_count": null,
   "id": "b9b286ea-67d4-4a64-9c60-b9ed67e3bda9",
   "metadata": {},
   "outputs": [],
   "source": []
  },
  {
   "cell_type": "code",
   "execution_count": 1,
   "id": "0c74513d-1d7c-4c44-b73a-6b8a6fa187eb",
   "metadata": {
    "execution": {
     "iopub.execute_input": "2022-02-06T17:46:01.162270Z",
     "iopub.status.busy": "2022-02-06T17:46:01.162270Z",
     "iopub.status.idle": "2022-02-06T17:46:01.369279Z",
     "shell.execute_reply": "2022-02-06T17:46:01.368299Z",
     "shell.execute_reply.started": "2022-02-06T17:46:01.162270Z"
    }
   },
   "outputs": [],
   "source": [
    "import telebot\n",
    "bot = telebot.TeleBot('5206536378:AAELOFjmqK_qPY7OGppdnEejFYEgbskNvvo')"
   ]
  },
  {
   "cell_type": "code",
   "execution_count": 4,
   "id": "9594dc6f-f76f-481d-800d-2cdaecb79d94",
   "metadata": {
    "execution": {
     "iopub.execute_input": "2022-02-06T17:47:25.344440Z",
     "iopub.status.busy": "2022-02-06T17:47:25.344440Z",
     "iopub.status.idle": "2022-02-06T17:47:25.361448Z",
     "shell.execute_reply": "2022-02-06T17:47:25.360439Z",
     "shell.execute_reply.started": "2022-02-06T17:47:25.344440Z"
    },
    "tags": []
   },
   "outputs": [
    {
     "ename": "SyntaxError",
     "evalue": "unexpected EOF while parsing (<ipython-input-4-df75c65e0ed7>, line 3)",
     "output_type": "error",
     "traceback": [
      "\u001b[1;36m  File \u001b[1;32m\"<ipython-input-4-df75c65e0ed7>\"\u001b[1;36m, line \u001b[1;32m3\u001b[0m\n\u001b[1;33m    @bot.message_handler(content_types=['text', 'document', 'audio'])\u001b[0m\n\u001b[1;37m                                                                     ^\u001b[0m\n\u001b[1;31mSyntaxError\u001b[0m\u001b[1;31m:\u001b[0m unexpected EOF while parsing\n"
     ]
    }
   ],
   "source": [
    "@bot.message_handler(content_types=['text'])\n",
    "def get_text_messages(message):\n",
    "    @bot.message_handler(content_types=['text', 'document', 'audio'])"
   ]
  },
  {
   "cell_type": "code",
   "execution_count": 5,
   "id": "723d979e-743a-4ab7-bd5a-de7716e72174",
   "metadata": {
    "execution": {
     "iopub.execute_input": "2022-02-06T17:47:34.227115Z",
     "iopub.status.busy": "2022-02-06T17:47:34.227115Z",
     "iopub.status.idle": "2022-02-06T17:47:34.243104Z",
     "shell.execute_reply": "2022-02-06T17:47:34.242104Z",
     "shell.execute_reply.started": "2022-02-06T17:47:34.227115Z"
    },
    "tags": []
   },
   "outputs": [
    {
     "ename": "NameError",
     "evalue": "name 'message' is not defined",
     "output_type": "error",
     "traceback": [
      "\u001b[1;31m---------------------------------------------------------------------------\u001b[0m",
      "\u001b[1;31mNameError\u001b[0m                                 Traceback (most recent call last)",
      "\u001b[1;32m<ipython-input-5-f57e936e33cc>\u001b[0m in \u001b[0;36m<module>\u001b[1;34m\u001b[0m\n\u001b[1;32m----> 1\u001b[1;33m \u001b[1;32mif\u001b[0m \u001b[0mmessage\u001b[0m\u001b[1;33m.\u001b[0m\u001b[0mtext\u001b[0m \u001b[1;33m==\u001b[0m \u001b[1;34m\"Привет\"\u001b[0m\u001b[1;33m:\u001b[0m\u001b[1;33m\u001b[0m\u001b[1;33m\u001b[0m\u001b[0m\n\u001b[0m\u001b[0;32m      2\u001b[0m     \u001b[0mbot\u001b[0m\u001b[1;33m.\u001b[0m\u001b[0msend_message\u001b[0m\u001b[1;33m(\u001b[0m\u001b[0mmessage\u001b[0m\u001b[1;33m.\u001b[0m\u001b[0mfrom_user\u001b[0m\u001b[1;33m.\u001b[0m\u001b[0mid\u001b[0m\u001b[1;33m,\u001b[0m \u001b[1;34m\"Привет, чем я могу тебе помочь?\"\u001b[0m\u001b[1;33m)\u001b[0m\u001b[1;33m\u001b[0m\u001b[1;33m\u001b[0m\u001b[0m\n\u001b[0;32m      3\u001b[0m \u001b[1;32melif\u001b[0m \u001b[0mmessage\u001b[0m\u001b[1;33m.\u001b[0m\u001b[0mtext\u001b[0m \u001b[1;33m==\u001b[0m \u001b[1;34m\"/help\"\u001b[0m\u001b[1;33m:\u001b[0m\u001b[1;33m\u001b[0m\u001b[1;33m\u001b[0m\u001b[0m\n\u001b[0;32m      4\u001b[0m     \u001b[0mbot\u001b[0m\u001b[1;33m.\u001b[0m\u001b[0msend_message\u001b[0m\u001b[1;33m(\u001b[0m\u001b[0mmessage\u001b[0m\u001b[1;33m.\u001b[0m\u001b[0mfrom_user\u001b[0m\u001b[1;33m.\u001b[0m\u001b[0mid\u001b[0m\u001b[1;33m,\u001b[0m \u001b[1;34m\"Напиши привет\"\u001b[0m\u001b[1;33m)\u001b[0m\u001b[1;33m\u001b[0m\u001b[1;33m\u001b[0m\u001b[0m\n\u001b[0;32m      5\u001b[0m \u001b[1;32melse\u001b[0m\u001b[1;33m:\u001b[0m\u001b[1;33m\u001b[0m\u001b[1;33m\u001b[0m\u001b[0m\n",
      "\u001b[1;31mNameError\u001b[0m: name 'message' is not defined"
     ]
    }
   ],
   "source": [
    "if message.text == \"Привет\":\n",
    "    bot.send_message(message.from_user.id, \"Привет, чем я могу тебе помочь?\")\n",
    "elif message.text == \"/help\":\n",
    "    bot.send_message(message.from_user.id, \"Напиши привет\")\n",
    "else:\n",
    "    bot.send_message(message.from_user.id, \"Я тебя не понимаю. Напиши /help.\")"
   ]
  },
  {
   "cell_type": "code",
   "execution_count": null,
   "id": "08ea2d74-b613-4b44-ae5d-6cf851cfb4a8",
   "metadata": {},
   "outputs": [],
   "source": []
  },
  {
   "cell_type": "code",
   "execution_count": null,
   "id": "23cb7bbb-5d3a-49ab-ae3a-e181667520e2",
   "metadata": {},
   "outputs": [],
   "source": []
  }
 ],
 "metadata": {
  "kernelspec": {
   "display_name": "Python 3",
   "language": "python",
   "name": "python3"
  },
  "language_info": {
   "codemirror_mode": {
    "name": "ipython",
    "version": 3
   },
   "file_extension": ".py",
   "mimetype": "text/x-python",
   "name": "python",
   "nbconvert_exporter": "python",
   "pygments_lexer": "ipython3",
   "version": "3.8.8"
  }
 },
 "nbformat": 4,
 "nbformat_minor": 5
}
