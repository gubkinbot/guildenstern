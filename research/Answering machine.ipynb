{
 "cells": [
  {
   "cell_type": "markdown",
   "id": "638fabf2-79d1-4b2f-a869-dad19e0156bf",
   "metadata": {},
   "source": [
    "# Автоматический ответ на примитивные сообщения"
   ]
  },
  {
   "cell_type": "code",
   "execution_count": 1,
   "id": "c44e4197-ed55-4b10-adfc-4e03885d80db",
   "metadata": {
    "execution": {
     "iopub.execute_input": "2022-02-18T16:39:37.929758Z",
     "iopub.status.busy": "2022-02-18T16:39:37.928757Z",
     "iopub.status.idle": "2022-02-18T16:39:38.108710Z",
     "shell.execute_reply": "2022-02-18T16:39:38.108710Z",
     "shell.execute_reply.started": "2022-02-18T16:39:37.929758Z"
    }
   },
   "outputs": [],
   "source": [
    "import Levenshtein\n",
    "import re\n",
    "import random"
   ]
  },
  {
   "cell_type": "code",
   "execution_count": 2,
   "id": "e57c320b-d803-4be1-9a16-bc52ae15015b",
   "metadata": {
    "execution": {
     "iopub.execute_input": "2022-02-18T16:39:38.108710Z",
     "iopub.status.busy": "2022-02-18T16:39:38.108710Z",
     "iopub.status.idle": "2022-02-18T16:39:38.127719Z",
     "shell.execute_reply": "2022-02-18T16:39:38.126716Z",
     "shell.execute_reply.started": "2022-02-18T16:39:38.108710Z"
    },
    "tags": []
   },
   "outputs": [],
   "source": [
    "topics = {\n",
    "    'как дела': 1,\n",
    "    'как делишки': 1,\n",
    "    'что делаешь': 2,\n",
    "    'чем занят': 2,\n",
    "    'че делаешь': 2,\n",
    "    'чо делаешь': 2,\n",
    "    'чем занята': 2,\n",
    "    'чем занят': 2,\n",
    "    'что ты делаешь': 2,\n",
    "    'что нового': 3,\n",
    "    'че нового': 3,\n",
    "    'что новенького': 3,\n",
    "    'чем увлекаешься': 4,\n",
    "    'чем ты увлекаешься': 4,\n",
    "    'какие увлечения': 4,\n",
    "    'какие у тебя увлечения': 4,\n",
    "    'ты бот': 5,\n",
    "    'ты точно бот': 5\n",
    "}"
   ]
  },
  {
   "cell_type": "code",
   "execution_count": 3,
   "id": "52b5336a-31b4-4ec7-b97a-3e921a0d2002",
   "metadata": {
    "execution": {
     "iopub.execute_input": "2022-02-18T16:39:38.129720Z",
     "iopub.status.busy": "2022-02-18T16:39:38.129720Z",
     "iopub.status.idle": "2022-02-18T16:39:38.142723Z",
     "shell.execute_reply": "2022-02-18T16:39:38.142723Z",
     "shell.execute_reply.started": "2022-02-18T16:39:38.129720Z"
    },
    "tags": []
   },
   "outputs": [],
   "source": [
    "typical_answers = {\n",
    "    1: ['Все хорошо, спасибо', 'Пойдет', 'Прекрасно', 'Жить можно...', 'Нормально', 'Неплохо', 'Ничего так', 'Пока не родила)'],\n",
    "    2: ['Ем бутеброд', 'Пью сок', 'Думаю спать пойти', 'В туалете сижу', 'В ванной лежу', 'А вот не скажу', 'Читаю твои сообщения', 'Антона ищу', 'Гольденштера пытаюсь поймать'],\n",
    "    3: ['Все как обычно', 'Вот, думаю татуху набить', 'А ты знаешь, что было старенького?', 'Жду доставку из интернет-магазина', 'Жду доставщика'],\n",
    "    4: ['Ничем я не увлекаюсь', 'Увлекаюсь кошками', 'Ты мое увлечение', 'Развожу свиней', 'Развожу людей', 'Преступной деятельностью', 'Я писатель', 'Банки закатываю'],\n",
    "    5: ['С чего бы?', 'На себя посмотри)', 'Преждевременные выводы', 'По выходным', 'Ну и что?', 'Имею право!', 'Не ботистее тебя']\n",
    "}"
   ]
  },
  {
   "cell_type": "code",
   "execution_count": 4,
   "id": "801b60df-f796-430c-9c21-5b931331584c",
   "metadata": {
    "execution": {
     "iopub.execute_input": "2022-02-18T16:39:38.144723Z",
     "iopub.status.busy": "2022-02-18T16:39:38.143717Z",
     "iopub.status.idle": "2022-02-18T16:39:38.158716Z",
     "shell.execute_reply": "2022-02-18T16:39:38.157715Z",
     "shell.execute_reply.started": "2022-02-18T16:39:38.144723Z"
    },
    "tags": []
   },
   "outputs": [],
   "source": [
    "def answering_machine(question):\n",
    "    if random.randint(0, 5) == 0: # с вероятностью 80 процентов сообщение будет перехвачено\n",
    "        return 0\n",
    "    question = re.sub('[^а-я ]', '', question) # оставляем только символы\n",
    "    question = re.sub(r'\\s+', ' ', question) # удаляем лишние пробелы\n",
    "    question = re.sub(r'еее+', 'е', question) # удаляем протяжные гласные\n",
    "    question = re.sub(r'иии+', 'и', question) # удаляем протяжные гласные\n",
    "    question = re.sub(r'ааа+', 'а', question) # удаляем протяжные гласные\n",
    "    question = re.sub(r'ооо+', 'о', question) # удаляем протяжные гласные\n",
    "    for phrase in topics.keys():\n",
    "        if Levenshtein.distance(phrase, question) <= 1: # находим примитивный вопрос\n",
    "            return random.choice(typical_answers[topics[phrase]]) # отвечаем примитивным ответом\n",
    "    return 0"
   ]
  },
  {
   "cell_type": "code",
   "execution_count": 5,
   "id": "da6f720e-4260-49ef-9153-5406eaf75b70",
   "metadata": {
    "execution": {
     "iopub.execute_input": "2022-02-18T16:39:38.159718Z",
     "iopub.status.busy": "2022-02-18T16:39:38.159718Z",
     "iopub.status.idle": "2022-02-18T16:39:38.173717Z",
     "shell.execute_reply": "2022-02-18T16:39:38.172724Z",
     "shell.execute_reply.started": "2022-02-18T16:39:38.159718Z"
    },
    "tags": []
   },
   "outputs": [
    {
     "data": {
      "text/plain": [
       "'Антона ищу'"
      ]
     },
     "execution_count": 5,
     "metadata": {},
     "output_type": "execute_result"
    }
   ],
   "source": [
    "answering_machine('че дееееелаешь???????))))))')"
   ]
  },
  {
   "cell_type": "code",
   "execution_count": null,
   "id": "8e99784e-5877-43a1-acdd-b8046f167db8",
   "metadata": {},
   "outputs": [],
   "source": []
  }
 ],
 "metadata": {
  "kernelspec": {
   "display_name": "Python 3",
   "language": "python",
   "name": "python3"
  },
  "language_info": {
   "codemirror_mode": {
    "name": "ipython",
    "version": 3
   },
   "file_extension": ".py",
   "mimetype": "text/x-python",
   "name": "python",
   "nbconvert_exporter": "python",
   "pygments_lexer": "ipython3",
   "version": "3.8.8"
  }
 },
 "nbformat": 4,
 "nbformat_minor": 5
}
