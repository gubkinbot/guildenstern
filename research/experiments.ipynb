{
 "cells": [
  {
   "cell_type": "markdown",
   "id": "8f6dfe14-cb09-41c9-a4bd-cc5c3fb797b7",
   "metadata": {},
   "source": [
    "# Подготовка сообщений"
   ]
  },
  {
   "cell_type": "code",
   "execution_count": 1,
   "id": "74cd8c04-01d9-4789-9338-1b02aa850124",
   "metadata": {
    "execution": {
     "iopub.execute_input": "2022-02-06T18:19:59.944777Z",
     "iopub.status.busy": "2022-02-06T18:19:59.944777Z",
     "iopub.status.idle": "2022-02-06T18:19:59.953502Z",
     "shell.execute_reply": "2022-02-06T18:19:59.952901Z",
     "shell.execute_reply.started": "2022-02-06T18:19:59.944777Z"
    }
   },
   "outputs": [],
   "source": [
    "mud = [\n",
    "    'привет',\n",
    "    'ПРИВЕТ!!!',\n",
    "    'Привет .',\n",
    "    'Привет ) ) )'\n",
    "]"
   ]
  },
  {
   "cell_type": "code",
   "execution_count": null,
   "id": "4ec5c1ba-ea38-479e-a859-a56dbcfc65ee",
   "metadata": {},
   "outputs": [],
   "source": []
  }
 ],
 "metadata": {
  "kernelspec": {
   "display_name": "Python 3",
   "language": "python",
   "name": "python3"
  },
  "language_info": {
   "codemirror_mode": {
    "name": "ipython",
    "version": 3
   },
   "file_extension": ".py",
   "mimetype": "text/x-python",
   "name": "python",
   "nbconvert_exporter": "python",
   "pygments_lexer": "ipython3",
   "version": "3.8.8"
  }
 },
 "nbformat": 4,
 "nbformat_minor": 5
}
