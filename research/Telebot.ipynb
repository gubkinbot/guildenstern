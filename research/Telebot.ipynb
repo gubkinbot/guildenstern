{
 "cells": [
  {
   "cell_type": "markdown",
   "id": "76594af4-1e32-40e4-81ea-f5fb42adb34e",
   "metadata": {},
   "source": [
    "# Тест библиотек"
   ]
  },
  {
   "cell_type": "code",
   "execution_count": 1,
   "id": "082292e0-b10e-456e-8414-201093214abd",
   "metadata": {
    "execution": {
     "iopub.execute_input": "2022-02-06T18:05:49.518900Z",
     "iopub.status.busy": "2022-02-06T18:05:49.518900Z",
     "iopub.status.idle": "2022-02-06T18:05:49.685462Z",
     "shell.execute_reply": "2022-02-06T18:05:49.684481Z",
     "shell.execute_reply.started": "2022-02-06T18:05:49.518900Z"
    },
    "tags": []
   },
   "outputs": [],
   "source": [
    "import telebot\n",
    "import os\n",
    "from dotenv import load_dotenv"
   ]
  },
  {
   "cell_type": "code",
   "execution_count": null,
   "id": "47f28b6d-a671-4997-ac50-cd68b8477207",
   "metadata": {
    "execution": {
     "iopub.execute_input": "2022-02-06T18:05:49.687453Z",
     "iopub.status.busy": "2022-02-06T18:05:49.687453Z"
    },
    "tags": []
   },
   "outputs": [],
   "source": [
    "load_dotenv('./.env')\n",
    "token = os.environ.get('TOKEN')\n",
    "\n",
    "bot=telebot.TeleBot(token)\n",
    "@bot.message_handler(commands=['start'])\n",
    "def start_message(message):\n",
    "  bot.send_message(message.chat.id,\"Привет ✌️ \")\n",
    "bot.infinity_polling()"
   ]
  }
 ],
 "metadata": {
  "kernelspec": {
   "display_name": "Python 3",
   "language": "python",
   "name": "python3"
  },
  "language_info": {
   "codemirror_mode": {
    "name": "ipython",
    "version": 3
   },
   "file_extension": ".py",
   "mimetype": "text/x-python",
   "name": "python",
   "nbconvert_exporter": "python",
   "pygments_lexer": "ipython3",
   "version": "3.8.8"
  }
 },
 "nbformat": 4,
 "nbformat_minor": 5
}
